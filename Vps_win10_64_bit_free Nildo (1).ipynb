{
  "nbformat": 4,
  "nbformat_minor": 0,
  "metadata": {
    "colab": {
      "name": "Vps win10 64 bit free",
      "private_outputs": true,
      "provenance": [],
      "collapsed_sections": []
    },
    "kernelspec": {
      "name": "python3",
      "display_name": "Python 3"
    },
    "language_info": {
      "name": "python"
    },
    "accelerator": "GPU"
  },
  "cells": [
    {
      "cell_type": "code",
      "metadata": {
        "id": "i3vGVSfT-ly9"
      },
      "source": [
        "#@title **Vps rdp win 10 free Hoàng vtmc**\n",
        "#@markdown Windows RDP Colab chạy tối đa 12 giờ<br><br>\n",
        "#@markdown Lấy ngrok auth token:<br>\n",
        "#@markdown [Auth Token](https://dashboard.ngrok.com/get-started/your-authtoken)<br><br>\n",
        "#@markdown Ấn nút tam giác và đợi chạy... <br>\n",
        "#@markdown Video hướng dẫn: [video](https://youtu.be/3T3MD-hImkk)<br><br>\n",
        "#@markdown Username: akuh<br>\n",
        "#@markdown Password: Akuh.Net <br><br>\n",
        "#@markdown Khác 👉 [miễn phí vps win 7 x64](https://link1s.com/WNFo)<br><br>\n",
        " \n",
        "! wget -O w10.sh https://run.mocky.io/v3/de351f95-9e48-4486-842b-a1fe4c10d813 &> /dev/null\n",
        "! chmod +x w10.sh\n",
        "! ./w10.sh"
      ],
      "execution_count": null,
      "outputs": []
    },
    {
      "cell_type": "markdown",
      "metadata": {
        "id": "2KFhYmgyg87S"
      },
      "source": [
        ""
      ]
    },
    {
      "cell_type": "markdown",
      "metadata": {
        "id": "e9wa7ujNT_pz"
      },
      "source": [
        "# **Giữ kết nối(làm bước này ngay sau khi ip vps hiện ra)** \n",
        "# **Ấn F12 và nhập lệnh này vào và enter:**\n",
        "```\n",
        "function ClickConnect() {\n",
        "  console.log('Working')\n",
        "  document\n",
        "    .querySelector('#top-toolbar > colab-connect-button')\n",
        "    .shadowRoot.querySelector('#connect')\n",
        "    .click()\n",
        "}\n",
        "\n",
        "setInterval(ClickConnect, 60000)\n",
        "\n"
      ]
    }
  ]
}